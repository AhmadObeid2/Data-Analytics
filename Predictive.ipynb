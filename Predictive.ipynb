{
  "nbformat": 4,
  "nbformat_minor": 0,
  "metadata": {
    "colab": {
      "provenance": []
    },
    "kernelspec": {
      "name": "python3",
      "display_name": "Python 3"
    },
    "language_info": {
      "name": "python"
    }
  },
  "cells": [
    {
      "cell_type": "code",
      "source": [
        "import pandas as pd\n",
        "import numpy as np\n",
        "import seaborn as sns\n",
        "import matplotlib.pyplot as plt\n",
        "from sklearn.linear_model import LinearRegression\n",
        "from sklearn.model_selection import train_test_split\n",
        "from sklearn.feature_selection import SelectFromModel\n",
        "from sklearn.metrics import mean_squared_error, mean_absolute_error, r2_score\n",
        "from sklearn.tree import DecisionTreeRegressor\n",
        "from sklearn.ensemble import RandomForestRegressor\n",
        "from sklearn.preprocessing import LabelEncoder\n",
        "from sklearn.feature_selection import RFE\n",
        "file = 'Mid-.csv'\n",
        "df = pd.read_csv(file)"
      ],
      "metadata": {
        "id": "1NRDmxS70ycT"
      },
      "execution_count": 8,
      "outputs": []
    },
    {
      "cell_type": "markdown",
      "source": [
        "# **Pridiction**"
      ],
      "metadata": {
        "id": "QUCXC2Pwpdnc"
      }
    },
    {
      "cell_type": "markdown",
      "source": [
        "encoding"
      ],
      "metadata": {
        "id": "lKk383Qkr3kw"
      }
    },
    {
      "cell_type": "code",
      "source": [
        "x = df.select_dtypes(['object', 'datetime64']).columns\n",
        "e = LabelEncoder()\n",
        "df[x] = df[x].apply(LabelEncoder().fit_transform)"
      ],
      "metadata": {
        "id": "D3Nnrcmzpdnh"
      },
      "execution_count": 57,
      "outputs": []
    },
    {
      "cell_type": "code",
      "source": [
        "df.drop('Time', axis = 1, inplace = True)\n",
        "df.drop('cumulative_energy_consumption', axis = 1, inplace = True)\n",
        "df.drop('Trace_Level', axis = 1, inplace = True)\n",
        "df.drop('Des_IP_Port', axis = 1, inplace = True)\n",
        "df.drop('Broadcast_ID', axis = 1, inplace = True)\n",
        "df.drop('Node_id', axis = 1, inplace = True)"
      ],
      "metadata": {
        "id": "IiBpTmicKm0C"
      },
      "execution_count": 10,
      "outputs": []
    },
    {
      "cell_type": "code",
      "source": [
        "iteration=30"
      ],
      "metadata": {
        "id": "ksCOM_c4M_8b"
      },
      "execution_count": 11,
      "outputs": []
    },
    {
      "cell_type": "markdown",
      "source": [
        "**select from model**"
      ],
      "metadata": {
        "id": "w_3jGoYPb7ej"
      }
    },
    {
      "cell_type": "code",
      "source": [
        "X = df.drop([\"TTL\"], axis=1)\n",
        "y = df[\"TTL\"]\n",
        "X_train, X_test, y_train, y_test = train_test_split(X, y, test_size=0.3, random_state=4)\n",
        "model = LinearRegression()\n",
        "model.fit(X_train, y_train)\n",
        "sfm = SelectFromModel(model, threshold=\"median\")\n",
        "sfm.fit(X_train, y_train)\n",
        "features = X.columns[sfm.get_support()]\n",
        "print(\"Selected features:\", features)\n",
        "X = X[features]"
      ],
      "metadata": {
        "colab": {
          "base_uri": "https://localhost:8080/"
        },
        "id": "9tBiTloSLsPl",
        "outputId": "f8744b01-ebc0-4f14-b217-5cf2a3c5cc57"
      },
      "execution_count": 12,
      "outputs": [
        {
          "output_type": "stream",
          "name": "stdout",
          "text": [
            "Selected features: Index(['Event', 'Rest_Energy', 'Hop_Count', 'Dest_Seq_Num', 'Src_Node_ID',\n",
            "       'Src_Seq_Num', 'behaviour', 'energy_consumption'],\n",
            "      dtype='object')\n"
          ]
        }
      ]
    },
    {
      "cell_type": "markdown",
      "source": [
        "linear regression"
      ],
      "metadata": {
        "id": "ZVfG5FYqcD_1"
      }
    },
    {
      "cell_type": "code",
      "source": [
        "dff = LinearRegression()\n",
        "lr_mse_sfm = []\n",
        "lr_mae_sfm = []\n",
        "lr_rmse_sfm = []\n",
        "lr_r2_sfm = []\n",
        "for i in range(iteration):\n",
        "  X_train, X_test, y_train, y_test = train_test_split(X, y, test_size=0.3, random_state=i)\n",
        "  dff.fit(X_train, y_train)\n",
        "  y_pred = dff.predict(X_test)\n",
        "  mse = mean_squared_error(y_test, y_pred)\n",
        "  mae = mean_absolute_error(y_test, y_pred)\n",
        "  rmse = np.sqrt(mse)\n",
        "  r2 = r2_score(y_test, y_pred)\n",
        "  lr_mse_sfm.append(mse)\n",
        "  lr_mae_sfm.append(mae)\n",
        "  lr_rmse_sfm.append(rmse)\n",
        "  lr_r2_sfm.append(r2)\n",
        "a_lr_mse_sfm = sum(lr_mse_sfm) / iteration\n",
        "a_lr_mae_sfm = sum(lr_mae_sfm) / iteration\n",
        "a_lr_rmse_sfm = sum(lr_rmse_sfm) / iteration\n",
        "a_lr_r2_sfm = sum(lr_r2_sfm) / iteration\n",
        "print(\"Linear Regression:\")\n",
        "print(\"MSE =\", a_lr_mse_sfm)\n",
        "print(\"MAE =\", a_lr_mae_sfm)\n",
        "print(\"RMSE =\", a_lr_rmse_sfm)\n",
        "print(\"R2 =\", a_lr_r2_sfm * 100)"
      ],
      "metadata": {
        "id": "UHYWLX8pMTuz",
        "colab": {
          "base_uri": "https://localhost:8080/"
        },
        "outputId": "f095e0c8-2f7d-4515-cd4c-55a738ae695e"
      },
      "execution_count": 13,
      "outputs": [
        {
          "output_type": "stream",
          "name": "stdout",
          "text": [
            "Linear Regression:\n",
            "MSE = 13.518605983387305\n",
            "MAE = 1.6312228236638924\n",
            "RMSE = 3.6767131506493715\n",
            "R2 = 58.450396600783385\n"
          ]
        }
      ]
    },
    {
      "cell_type": "markdown",
      "source": [
        "\n",
        "\n",
        "\n",
        "\n",
        "\n",
        "Decision Tree Regression"
      ],
      "metadata": {
        "id": "oR2zdmr0cL5-"
      }
    },
    {
      "cell_type": "code",
      "source": [
        "X = df.drop([\"TTL\"], axis=1)\n",
        "y = df[\"TTL\"]\n",
        "X_train, X_test, y_train, y_test = train_test_split(X, y, test_size=0.3, random_state=4)\n",
        "model = DecisionTreeRegressor(random_state=0)\n",
        "model.fit(X_train, y_train)\n",
        "sfm = SelectFromModel(model, threshold=\"median\")\n",
        "sfm.fit(X_train, y_train)\n",
        "features = X.columns[sfm.get_support()]\n",
        "print(\"Selected features:\", features)\n",
        "X = X[features]"
      ],
      "metadata": {
        "colab": {
          "base_uri": "https://localhost:8080/"
        },
        "id": "YeVWqCnoNPUz",
        "outputId": "73c84cc4-cd70-434a-f6fc-cf3e6944f3e9"
      },
      "execution_count": 16,
      "outputs": [
        {
          "output_type": "stream",
          "name": "stdout",
          "text": [
            "Selected features: Index(['Event', 'S_Node', 'Rest_Energy', 'Source_IP_Port', 'Hop_Count',\n",
            "       'Dest_Seq_Num', 'Src_Node_ID', 'Src_Seq_Num'],\n",
            "      dtype='object')\n"
          ]
        }
      ]
    },
    {
      "cell_type": "code",
      "source": [
        "dff = DecisionTreeRegressor()\n",
        "dt_mse_sfm = []\n",
        "dt_mae_sfm = []\n",
        "dt_rmse_sfm = []\n",
        "dt_r2_sfm = []\n",
        "for i in range(iteration):\n",
        "  X_train, X_test, y_train, y_test = train_test_split(X, y, test_size=0.3, random_state=i)\n",
        "  dff.fit(X_train, y_train)\n",
        "  y_pred = dff.predict(X_test)\n",
        "  mse = mean_squared_error(y_test, y_pred)\n",
        "  mae = mean_absolute_error(y_test, y_pred)\n",
        "  rmse = np.sqrt(mse)\n",
        "  r2 = r2_score(y_test, y_pred)\n",
        "  dt_mse_sfm.append(mse)\n",
        "  dt_mae_sfm.append(mae)\n",
        "  dt_rmse_sfm.append(rmse)\n",
        "  dt_r2_sfm.append(r2)\n",
        "a_dt_mse_sfm = sum(dt_mse_sfm) / iteration\n",
        "a_dt_mae_sfm = sum(dt_mae_sfm) / iteration\n",
        "a_dt_rmse_sfm = sum(dt_rmse_sfm) / iteration\n",
        "a_dt_r2_sfm = sum(dt_r2_sfm) / iteration\n",
        "print(\"Decision Tree:\")\n",
        "print(\"MSE =\", a_dt_mse_sfm)\n",
        "print(\"MAE =\", a_dt_mae_sfm)\n",
        "print(\"RMSE =\", a_dt_rmse_sfm)\n",
        "print(\"R2 =\", a_dt_r2_sfm * 100)"
      ],
      "metadata": {
        "id": "Nnuqi3mIOHux",
        "colab": {
          "base_uri": "https://localhost:8080/"
        },
        "outputId": "669c830b-e1bd-420e-9477-d54cc030c835"
      },
      "execution_count": 18,
      "outputs": [
        {
          "output_type": "stream",
          "name": "stdout",
          "text": [
            "Decision Tree:\n",
            "MSE = 0.006417677717019824\n",
            "MAE = 0.00029156698564593303\n",
            "RMSE = 0.05820220399263876\n",
            "R2 = 99.98028118201361\n"
          ]
        }
      ]
    },
    {
      "cell_type": "markdown",
      "source": [
        "Randome forest"
      ],
      "metadata": {
        "id": "O5txuiV_inhh"
      }
    },
    {
      "cell_type": "code",
      "source": [
        "X = df.drop([\"TTL\"], axis=1)\n",
        "y = df[\"TTL\"]\n",
        "X_train, X_test, y_train, y_test = train_test_split(X, y, test_size=0.3, random_state=4)\n",
        "model = RandomForestRegressor(random_state=0)\n",
        "model.fit(X_train, y_train)\n",
        "sfm = SelectFromModel(model, threshold='median')\n",
        "sfm.fit(X_train, y_train)\n",
        "features = X.columns[sfm.get_support()]\n",
        "print(\"Selected features:\", features)\n",
        "X = X[features]"
      ],
      "metadata": {
        "colab": {
          "base_uri": "https://localhost:8080/"
        },
        "id": "HwYdx-Eciw54",
        "outputId": "9c60ce36-63ed-4740-a921-b24772754d54"
      },
      "execution_count": 19,
      "outputs": [
        {
          "output_type": "stream",
          "name": "stdout",
          "text": [
            "Selected features: Index(['S_Node', 'Rest_Energy', 'Source_IP_Port', 'Hop_Count', 'Dest_Node_Num',\n",
            "       'Dest_Seq_Num', 'Src_Node_ID', 'Src_Seq_Num'],\n",
            "      dtype='object')\n"
          ]
        }
      ]
    },
    {
      "cell_type": "code",
      "source": [
        "dff = RandomForestRegressor()\n",
        "rf_mse_sfm = []\n",
        "rf_mae_sfm = []\n",
        "rf_rmse_sfm = []\n",
        "rf_r2_sfm = []\n",
        "for i in range(iteration):\n",
        "    X_train, X_test, y_train, y_test = train_test_split(X, y, test_size=0.3, random_state=i)\n",
        "    dff.fit(X_train, y_train)\n",
        "    y_pred = dff.predict(X_test)\n",
        "    mse = mean_squared_error(y_test, y_pred)\n",
        "    rmse = np.sqrt(mse)\n",
        "    mae = mean_absolute_error(y_test, y_pred)\n",
        "    r2 = r2_score(y_test, y_pred)\n",
        "    rf_mse_sfm.append(mse)\n",
        "    rf_mae_sfm.append(mae)\n",
        "    rf_rmse_sfm.append(rmse)\n",
        "    rf_r2_sfm.append(r2)\n",
        "a_rf_mse_sfm = sum(rf_mse_sfm) / iteration\n",
        "a_rf_mae_sfm = sum(rf_mae_sfm) / iteration\n",
        "a_rf_rmse_sfm = sum(rf_rmse_sfm) / iteration\n",
        "a_rf_r2_sfm = sum(rf_r2_sfm) / iteration"
      ],
      "metadata": {
        "id": "CZknH7hAl34g"
      },
      "execution_count": 20,
      "outputs": []
    },
    {
      "cell_type": "code",
      "source": [
        "print(\"Random Forest:\")\n",
        "print(\"MSE =\", a_rf_mse_sfm)\n",
        "print(\"MAE =\", a_rf_mae_sfm)\n",
        "print(\"RMSE =\", a_rf_rmse_sfm)\n",
        "print(\"R2 =\", a_rf_r2_sfm * 100)"
      ],
      "metadata": {
        "colab": {
          "base_uri": "https://localhost:8080/"
        },
        "id": "3U4KCrCCaA81",
        "outputId": "6088de92-a3c5-4e61-eb6a-f7f2d08253fb"
      },
      "execution_count": 21,
      "outputs": [
        {
          "output_type": "stream",
          "name": "stdout",
          "text": [
            "Random Forest:\n",
            "MSE = 0.004125107085896559\n",
            "MAE = 0.00046814479380268855\n",
            "RMSE = 0.057077820130804584\n",
            "R2 = 99.98732650197627\n"
          ]
        }
      ]
    },
    {
      "cell_type": "markdown",
      "source": [
        "**recursive feature elimination**"
      ],
      "metadata": {
        "id": "XomtxQYHDdGg"
      }
    },
    {
      "cell_type": "markdown",
      "source": [
        "choosing the right number of feature to select on this techniques & test multi cases on linear regression to choose the best number"
      ],
      "metadata": {
        "id": "4fqObT_UXXSh"
      }
    },
    {
      "cell_type": "markdown",
      "source": [
        "**case 1**"
      ],
      "metadata": {
        "id": "HakDqa7dbeY7"
      }
    },
    {
      "cell_type": "code",
      "source": [
        "X = df.drop([\"TTL\"], axis=1)\n",
        "y = df[\"TTL\"]\n",
        "estimator = LinearRegression()\n",
        "features_num = 8\n",
        "rfe = RFE(estimator=estimator, n_features_to_select=features_num)\n",
        "X_ = rfe.fit_transform(X, y)\n",
        "s_m = rfe.support_\n",
        "features = X.columns[s_m]\n",
        "print(\"Selected features:\", features)\n",
        "X = X[features]"
      ],
      "metadata": {
        "colab": {
          "base_uri": "https://localhost:8080/"
        },
        "id": "oMrNsQnLbJpp",
        "outputId": "b817e79d-4dc1-472b-8566-8c440fe3de20"
      },
      "execution_count": 49,
      "outputs": [
        {
          "output_type": "stream",
          "name": "stdout",
          "text": [
            "Selected features: Index(['Rest_Energy', 'Hop_Count', 'Dest_Node_Num', 'Dest_Seq_Num',\n",
            "       'Src_Node_ID', 'Src_Seq_Num', 'behaviour', 'energy_consumption'],\n",
            "      dtype='object')\n"
          ]
        }
      ]
    },
    {
      "cell_type": "code",
      "source": [
        "dff = LinearRegression()\n",
        "lr_mse_rfe = []\n",
        "lr_mae_rfe = []\n",
        "lr_rmse_rfe = []\n",
        "lr_r2_rfe = []\n",
        "for i in range(iteration):\n",
        "  X_train, X_test, y_train, y_test = train_test_split(X, y, test_size=0.3, random_state=i)\n",
        "  dff.fit(X_train, y_train)\n",
        "  y_pred = dff.predict(X_test)\n",
        "  mse = mean_squared_error(y_test, y_pred)\n",
        "  mae = mean_absolute_error(y_test, y_pred)\n",
        "  rmse = np.sqrt(mse)\n",
        "  r2 = r2_score(y_test, y_pred)\n",
        "  lr_mse_rfe.append(mse)\n",
        "  lr_mae_rfe.append(mae)\n",
        "  lr_rmse_rfe.append(rmse)\n",
        "  lr_r2_rfe.append(r2)\n",
        "a_lr_mse_rfe = sum(lr_mse_rfe) / iteration\n",
        "a_lr_mae_rfe = sum(lr_mae_rfe) / iteration\n",
        "a_lr_rmse_rfe = sum(lr_rmse_rfe) / iteration\n",
        "a_lr_r2_rfe = sum(lr_r2_rfe) / iteration\n",
        "print(\"MSE =\", a_lr_mse_rfe)\n",
        "print(\"MAE =\", a_lr_mae_rfe)\n",
        "print(\"RMSE =\", a_lr_rmse_rfe)\n",
        "print(\"R2 =\", a_lr_r2_rfe * 100)"
      ],
      "metadata": {
        "colab": {
          "base_uri": "https://localhost:8080/"
        },
        "id": "uDlfW1RpbNYA",
        "outputId": "a344c659-08ee-4628-ba1c-ab19c3f18eb6"
      },
      "execution_count": 50,
      "outputs": [
        {
          "output_type": "stream",
          "name": "stdout",
          "text": [
            "MSE = 12.669101032048825\n",
            "MAE = 1.6476993213012452\n",
            "RMSE = 3.5593153098824986\n",
            "R2 = 61.06141111262169\n"
          ]
        }
      ]
    },
    {
      "cell_type": "markdown",
      "source": [
        "case **2**"
      ],
      "metadata": {
        "id": "TxQ88_spbicn"
      }
    },
    {
      "cell_type": "code",
      "source": [
        "X = df.drop([\"TTL\"], axis=1)\n",
        "y = df[\"TTL\"]\n",
        "estimator = LinearRegression()\n",
        "features_num = 10\n",
        "rfe = RFE(estimator=estimator, n_features_to_select=features_num)\n",
        "X_ = rfe.fit_transform(X, y)\n",
        "s_m = rfe.support_\n",
        "features = X.columns[s_m]\n",
        "print(\"Selected features:\", features)\n",
        "X = X[features]"
      ],
      "metadata": {
        "colab": {
          "base_uri": "https://localhost:8080/"
        },
        "id": "Crgz2cD2bZQp",
        "outputId": "47d57760-b682-46bc-f76e-56e0b31f3274"
      },
      "execution_count": 51,
      "outputs": [
        {
          "output_type": "stream",
          "name": "stdout",
          "text": [
            "Selected features: Index(['Event', 'Rest_Energy', 'Hop_Count', 'Dest_Node_Num', 'Dest_Seq_Num',\n",
            "       'Src_Node_ID', 'Src_Seq_Num', 'behaviour', 'rate_of_energy_consumption',\n",
            "       'energy_consumption'],\n",
            "      dtype='object')\n"
          ]
        }
      ]
    },
    {
      "cell_type": "code",
      "source": [
        "dff = LinearRegression()\n",
        "lr_mse_rfe = []\n",
        "lr_mae_rfe = []\n",
        "lr_rmse_rfe = []\n",
        "lr_r2_rfe = []\n",
        "for i in range(iteration):\n",
        "  X_train, X_test, y_train, y_test = train_test_split(X, y, test_size=0.3, random_state=i)\n",
        "  dff.fit(X_train, y_train)\n",
        "  y_pred = dff.predict(X_test)\n",
        "  mse = mean_squared_error(y_test, y_pred)\n",
        "  mae = mean_absolute_error(y_test, y_pred)\n",
        "  rmse = np.sqrt(mse)\n",
        "  r2 = r2_score(y_test, y_pred)\n",
        "  lr_mse_rfe.append(mse)\n",
        "  lr_mae_rfe.append(mae)\n",
        "  lr_rmse_rfe.append(rmse)\n",
        "  lr_r2_rfe.append(r2)\n",
        "a_lr_mse_rfe = sum(lr_mse_rfe) / iteration\n",
        "a_lr_mae_rfe = sum(lr_mae_rfe) / iteration\n",
        "a_lr_rmse_rfe = sum(lr_rmse_rfe) / iteration\n",
        "a_lr_r2_rfe = sum(lr_r2_rfe) / iteration\n",
        "print(\"MSE =\", a_lr_mse_rfe)\n",
        "print(\"MAE =\", a_lr_mae_rfe)\n",
        "print(\"RMSE =\", a_lr_rmse_rfe)\n",
        "print(\"R2 =\", a_lr_r2_rfe * 100)"
      ],
      "metadata": {
        "colab": {
          "base_uri": "https://localhost:8080/"
        },
        "id": "FtDSlPxMbbTr",
        "outputId": "f903d275-bb66-4cea-96eb-b95c735f3fa9"
      },
      "execution_count": 52,
      "outputs": [
        {
          "output_type": "stream",
          "name": "stdout",
          "text": [
            "MSE = 12.668935441270115\n",
            "MAE = 1.6479375138142442\n",
            "RMSE = 3.5592919688523406\n",
            "R2 = 61.061920419943526\n"
          ]
        }
      ]
    },
    {
      "cell_type": "markdown",
      "source": [
        "**case 3**"
      ],
      "metadata": {
        "id": "0qwMU5vIb4eQ"
      }
    },
    {
      "cell_type": "code",
      "source": [
        "X = df.drop([\"TTL\"], axis=1)\n",
        "y = df[\"TTL\"]\n",
        "estimator = LinearRegression()\n",
        "features_num = 12\n",
        "rfe = RFE(estimator=estimator, n_features_to_select=features_num)\n",
        "X_ = rfe.fit_transform(X, y)\n",
        "s_m = rfe.support_\n",
        "features = X.columns[s_m]\n",
        "print(\"Selected features:\", features)\n",
        "X = X[features]"
      ],
      "metadata": {
        "colab": {
          "base_uri": "https://localhost:8080/"
        },
        "id": "173wDC1Yb9QA",
        "outputId": "f0cff1d4-2199-41b7-849c-e1fa2b0b0424"
      },
      "execution_count": 53,
      "outputs": [
        {
          "output_type": "stream",
          "name": "stdout",
          "text": [
            "Selected features: Index(['Event', 'Rest_Energy', 'Mac_Type_Pckt', 'Hop_Count', 'Dest_Node_Num',\n",
            "       'Dest_Seq_Num', 'Src_Node_ID', 'Src_Seq_Num', 'behaviour', 'Type',\n",
            "       'rate_of_energy_consumption', 'energy_consumption'],\n",
            "      dtype='object')\n"
          ]
        }
      ]
    },
    {
      "cell_type": "code",
      "source": [
        "dff = LinearRegression()\n",
        "lr_mse_rfe = []\n",
        "lr_mae_rfe = []\n",
        "lr_rmse_rfe = []\n",
        "lr_r2_rfe = []\n",
        "for i in range(iteration):\n",
        "  X_train, X_test, y_train, y_test = train_test_split(X, y, test_size=0.3, random_state=i)\n",
        "  dff.fit(X_train, y_train)\n",
        "  y_pred = dff.predict(X_test)\n",
        "  mse = mean_squared_error(y_test, y_pred)\n",
        "  mae = mean_absolute_error(y_test, y_pred)\n",
        "  rmse = np.sqrt(mse)\n",
        "  r2 = r2_score(y_test, y_pred)\n",
        "  lr_mse_rfe.append(mse)\n",
        "  lr_mae_rfe.append(mae)\n",
        "  lr_rmse_rfe.append(rmse)\n",
        "  lr_r2_rfe.append(r2)\n",
        "a_lr_mse_rfe = sum(lr_mse_rfe) / iteration\n",
        "a_lr_mae_rfe = sum(lr_mae_rfe) / iteration\n",
        "a_lr_rmse_rfe = sum(lr_rmse_rfe) / iteration\n",
        "a_lr_r2_rfe = sum(lr_r2_rfe) / iteration\n",
        "print(\"MSE =\", a_lr_mse_rfe)\n",
        "print(\"MAE =\", a_lr_mae_rfe)\n",
        "print(\"RMSE =\", a_lr_rmse_rfe)\n",
        "print(\"R2 =\", a_lr_r2_rfe * 100)"
      ],
      "metadata": {
        "colab": {
          "base_uri": "https://localhost:8080/"
        },
        "id": "54-aOIbUb-z7",
        "outputId": "82673373-64ac-4839-e797-9dc3e70d08bf"
      },
      "execution_count": 54,
      "outputs": [
        {
          "output_type": "stream",
          "name": "stdout",
          "text": [
            "MSE = 12.66802019649814\n",
            "MAE = 1.6482083341639069\n",
            "RMSE = 3.5591632694811377\n",
            "R2 = 61.064738080215264\n"
          ]
        }
      ]
    },
    {
      "cell_type": "markdown",
      "source": [
        "**case 4 (the best)**"
      ],
      "metadata": {
        "id": "or0o5rXfcS--"
      }
    },
    {
      "cell_type": "markdown",
      "source": [
        "linear regression"
      ],
      "metadata": {
        "id": "aOWwn3ioDuMh"
      }
    },
    {
      "cell_type": "code",
      "source": [
        "X = df.drop([\"TTL\"], axis=1)\n",
        "y = df[\"TTL\"]\n",
        "estimator = LinearRegression()\n",
        "features_num = 15\n",
        "rfe = RFE(estimator=estimator, n_features_to_select=features_num)\n",
        "X_ = rfe.fit_transform(X, y)\n",
        "s_m = rfe.support_\n",
        "features = X.columns[s_m]\n",
        "print(\"Selected features:\", features)\n",
        "X = X[features]"
      ],
      "metadata": {
        "colab": {
          "base_uri": "https://localhost:8080/"
        },
        "id": "NPL9Y1ZMD0CR",
        "outputId": "8722a2e7-4491-4cae-e576-8f79560a05d8"
      },
      "execution_count": 32,
      "outputs": [
        {
          "output_type": "stream",
          "name": "stdout",
          "text": [
            "Selected features: Index(['Event', 'S_Node', 'Rest_Energy', 'Mac_Type_Pckt', 'Source_IP_Port',\n",
            "       'Packet_Size', 'Hop_Count', 'Dest_Node_Num', 'Dest_Seq_Num',\n",
            "       'Src_Node_ID', 'Src_Seq_Num', 'behaviour', 'Type',\n",
            "       'rate_of_energy_consumption', 'energy_consumption'],\n",
            "      dtype='object')\n"
          ]
        }
      ]
    },
    {
      "cell_type": "code",
      "source": [
        "dff = LinearRegression()\n",
        "lr_mse_rfe = []\n",
        "lr_mae_rfe = []\n",
        "lr_rmse_rfe = []\n",
        "lr_r2_rfe = []\n",
        "for i in range(iteration):\n",
        "  X_train, X_test, y_train, y_test = train_test_split(X, y, test_size=0.3, random_state=i)\n",
        "  dff.fit(X_train, y_train)\n",
        "  y_pred = dff.predict(X_test)\n",
        "  mse = mean_squared_error(y_test, y_pred)\n",
        "  mae = mean_absolute_error(y_test, y_pred)\n",
        "  rmse = np.sqrt(mse)\n",
        "  r2 = r2_score(y_test, y_pred)\n",
        "  lr_mse_rfe.append(mse)\n",
        "  lr_mae_rfe.append(mae)\n",
        "  lr_rmse_rfe.append(rmse)\n",
        "  lr_r2_rfe.append(r2)\n",
        "a_lr_mse_rfe = sum(lr_mse_rfe) / iteration\n",
        "a_lr_mae_rfe = sum(lr_mae_rfe) / iteration\n",
        "a_lr_rmse_rfe = sum(lr_rmse_rfe) / iteration\n",
        "a_lr_r2_rfe = sum(lr_r2_rfe) / iteration\n",
        "print(\"MSE =\", a_lr_mse_rfe)\n",
        "print(\"MAE =\", a_lr_mae_rfe)\n",
        "print(\"RMSE =\", a_lr_rmse_rfe)\n",
        "print(\"R2 =\", a_lr_r2_rfe * 100)"
      ],
      "metadata": {
        "colab": {
          "base_uri": "https://localhost:8080/"
        },
        "id": "QbNxz7jbEZtt",
        "outputId": "9e41fa1e-2d2e-48bd-dd1a-0e2aeacd5e9b"
      },
      "execution_count": 33,
      "outputs": [
        {
          "output_type": "stream",
          "name": "stdout",
          "text": [
            "MSE = 12.644655737833022\n",
            "MAE = 1.6391174906817814\n",
            "RMSE = 3.555879611970505\n",
            "R2 = 61.136560172631114\n"
          ]
        }
      ]
    },
    {
      "cell_type": "markdown",
      "source": [
        "Decision Tree Regression"
      ],
      "metadata": {
        "id": "MlRDwPamEwyh"
      }
    },
    {
      "cell_type": "code",
      "source": [
        "X = df.drop([\"TTL\"], axis=1)\n",
        "y = df[\"TTL\"]\n",
        "estimator = DecisionTreeRegressor()\n",
        "features_num = 15\n",
        "rfe = RFE(estimator=estimator, n_features_to_select=features_num)\n",
        "X_ = rfe.fit_transform(X, y)\n",
        "s_m = rfe.support_\n",
        "features = X.columns[s_m]\n",
        "print(\"Selected features:\", features)\n",
        "X = X[features]"
      ],
      "metadata": {
        "colab": {
          "base_uri": "https://localhost:8080/"
        },
        "id": "jbLD1CDbE5BL",
        "outputId": "b8f36c4b-745c-4e1a-b1c2-a801e7824f25"
      },
      "execution_count": 34,
      "outputs": [
        {
          "output_type": "stream",
          "name": "stdout",
          "text": [
            "Selected features: Index(['Event', 'S_Node', 'Rest_Energy', 'Mac_Type_Pckt', 'Source_IP_Port',\n",
            "       'Packet_Size', 'Hop_Count', 'Dest_Node_Num', 'Dest_Seq_Num',\n",
            "       'Src_Node_ID', 'Src_Seq_Num', 'behaviour', 'Type',\n",
            "       'rate_of_energy_consumption', 'energy_consumption'],\n",
            "      dtype='object')\n"
          ]
        }
      ]
    },
    {
      "cell_type": "code",
      "source": [
        "dff = DecisionTreeRegressor()\n",
        "dt_mse_rfe = []\n",
        "dt_mae_rfe = []\n",
        "dt_rmse_rfe = []\n",
        "dt_r2_rfe = []\n",
        "for i in range(iteration):\n",
        "  X_train, X_test, y_train, y_test = train_test_split(X, y, test_size=0.3, random_state=i)\n",
        "  dff.fit(X_train, y_train)\n",
        "  y_pred = dff.predict(X_test)\n",
        "  mse = mean_squared_error(y_test, y_pred)\n",
        "  mae = mean_absolute_error(y_test, y_pred)\n",
        "  rmse = np.sqrt(mse)\n",
        "  r2 = r2_score(y_test, y_pred)\n",
        "  dt_mse_rfe.append(mse)\n",
        "  dt_mae_rfe.append(mae)\n",
        "  dt_rmse_rfe.append(rmse)\n",
        "  dt_r2_rfe.append(r2)\n",
        "a_dt_mse_rfe = sum(dt_mse_rfe) / iteration\n",
        "a_dt_mae_rfe = sum(dt_mae_rfe) / iteration\n",
        "a_dt_rmse_rfe = sum(dt_rmse_rfe) / iteration\n",
        "a_dt_r2_rfe = sum(dt_r2_rfe) / iteration\n",
        "print(\"MSE =\", a_dt_mse_rfe)\n",
        "print(\"MAE =\", a_dt_mae_rfe)\n",
        "print(\"RMSE =\", a_dt_rmse_rfe)\n",
        "print(\"R2 =\", a_dt_r2_rfe * 100)"
      ],
      "metadata": {
        "colab": {
          "base_uri": "https://localhost:8080/"
        },
        "id": "NY0m1XeCFEtN",
        "outputId": "86a27512-9362-46c9-bcff-db3bbadac180"
      },
      "execution_count": 37,
      "outputs": [
        {
          "output_type": "stream",
          "name": "stdout",
          "text": [
            "MSE = 0.007360019366598314\n",
            "MAE = 0.00033321941216678063\n",
            "RMSE = 0.06512295691846014\n",
            "R2 = 99.9774201065857\n"
          ]
        }
      ]
    },
    {
      "cell_type": "markdown",
      "source": [
        "randome forest"
      ],
      "metadata": {
        "id": "LWseH4_rIE8b"
      }
    },
    {
      "cell_type": "code",
      "source": [
        "X = df.drop([\"TTL\"], axis=1)\n",
        "y = df[\"TTL\"]\n",
        "estimator = RandomForestRegressor()\n",
        "features_num = 15\n",
        "rfe = RFE(estimator=estimator, n_features_to_select=features_num)\n",
        "X_ = rfe.fit_transform(X, y)\n",
        "s_m = rfe.support_\n",
        "features = X.columns[s_m]\n",
        "print(\"Selected features:\", features)\n",
        "X = X[features]"
      ],
      "metadata": {
        "colab": {
          "base_uri": "https://localhost:8080/"
        },
        "id": "IC2eaNHsIEcu",
        "outputId": "cafa34fa-a83a-4e2b-c94c-36ff5cb94713"
      },
      "execution_count": 35,
      "outputs": [
        {
          "output_type": "stream",
          "name": "stdout",
          "text": [
            "Selected features: Index(['Event', 'S_Node', 'Rest_Energy', 'Mac_Type_Pckt', 'Source_IP_Port',\n",
            "       'Packet_Size', 'Hop_Count', 'Dest_Node_Num', 'Dest_Seq_Num',\n",
            "       'Src_Node_ID', 'Src_Seq_Num', 'behaviour', 'Type',\n",
            "       'rate_of_energy_consumption', 'energy_consumption'],\n",
            "      dtype='object')\n"
          ]
        }
      ]
    },
    {
      "cell_type": "code",
      "source": [
        "dff = RandomForestRegressor()\n",
        "rf_mse_rfe = []\n",
        "rf_mae_rfe = []\n",
        "rf_rmse_rfe = []\n",
        "rf_r2_rfe = []\n",
        "for i in range(iteration):\n",
        "    X_train, X_test, y_train, y_test = train_test_split(X, y, test_size=0.3, random_state=i)\n",
        "    dff.fit(X_train, y_train)\n",
        "    y_pred = dff.predict(X_test)\n",
        "    mse = mean_squared_error(y_test, y_pred)\n",
        "    rmse = np.sqrt(mse)\n",
        "    mae = mean_absolute_error(y_test, y_pred)\n",
        "    r2 = r2_score(y_test, y_pred)\n",
        "    rf_mse_rfe.append(mse)\n",
        "    rf_mae_rfe.append(mae)\n",
        "    rf_rmse_rfe.append(rmse)\n",
        "    rf_r2_rfe.append(r2)\n",
        "a_rf_mse_rfe = sum(rf_mse_rfe) / iteration\n",
        "a_rf_mae_rfe = sum(rf_mae_rfe) / iteration\n",
        "a_rf_rmse_rfe = sum(rf_rmse_rfe) / iteration\n",
        "a_rf_r2_rfe = sum(rf_r2_rfe) / iteration"
      ],
      "metadata": {
        "id": "rFIxbUQjRGEW"
      },
      "execution_count": 38,
      "outputs": []
    },
    {
      "cell_type": "code",
      "source": [
        "print(\"Random Forest:\")\n",
        "print(\"MSE =\", a_rf_mse_rfe)\n",
        "print(\"MAE =\", a_rf_mae_rfe)\n",
        "print(\"RMSE =\", a_rf_rmse_rfe)\n",
        "print(\"R2 =\", a_rf_r2_rfe * 100)"
      ],
      "metadata": {
        "colab": {
          "base_uri": "https://localhost:8080/"
        },
        "id": "kMQr1z_NEXtv",
        "outputId": "eca70a0d-53fb-4caf-c585-e9cf02612121"
      },
      "execution_count": null,
      "outputs": [
        {
          "output_type": "stream",
          "name": "stdout",
          "text": [
            "Random Forest:\n",
            "MSE = 0.004266297562087035\n",
            "MAE = 0.0005032111528822056\n",
            "RMSE = 0.05778371548185557\n",
            "R2 = 99.9868924108648\n"
          ]
        }
      ]
    },
    {
      "cell_type": "code",
      "source": [
        "s = ['dt_sfm','rf_sfm',\"dt_rfe\",\"rf_rfe\"]\n",
        "z = [a_dt_mse_sfm,a_rf_mse_sfm,a_dt_mse_rfe,a_rf_mse_rfe]\n",
        "X = np.arange(len(s))\n",
        "plt.figure(figsize=(6, 4))\n",
        "plt.bar(X+0, z, color =\"#546E77\", width = 0.25, edgecolor = 'black', label = 'MSE')\n",
        "plt.xticks(X, s)\n",
        "plt.legend(bbox_to_anchor=(1, 1))\n",
        "plt.xlabel(\"Models\")\n",
        "plt.title(\"Results\")\n",
        "plt.show()"
      ],
      "metadata": {
        "colab": {
          "base_uri": "https://localhost:8080/",
          "height": 410
        },
        "id": "LvTeArHZ_iVt",
        "outputId": "1c3bf9a6-df61-4427-9cb4-fece8c1300c9"
      },
      "execution_count": 39,
      "outputs": [
        {
          "output_type": "display_data",
          "data": {
            "text/plain": [
              "<Figure size 600x400 with 1 Axes>"
            ],
            "image/png": "[encoded data removed]"
          },
          "metadata": {}
        }
      ]
    },
    {
      "cell_type": "code",
      "source": [
        "s = ['lr_sfm','lr_rfe']\n",
        "z = [a_lr_mse_sfm,a_lr_mse_rfe]\n",
        "X = np.arange(len(s))\n",
        "plt.figure(figsize=(6, 4))\n",
        "plt.bar(X+0, z, color =\"#546E77\", width = 0.25, edgecolor = 'black', label = 'MSE')\n",
        "plt.xticks(X, s)\n",
        "plt.legend(bbox_to_anchor=(1, 1))\n",
        "plt.xlabel(\"Models\")\n",
        "plt.title(\"Results\")\n",
        "plt.show()"
      ],
      "metadata": {
        "colab": {
          "base_uri": "https://localhost:8080/",
          "height": 410
        },
        "id": "gtIOGN_DAOyV",
        "outputId": "18624585-d06d-477e-b77e-ed91cc25ac36"
      },
      "execution_count": 40,
      "outputs": [
        {
          "output_type": "display_data",
          "data": {
            "text/plain": [
              "<Figure size 600x400 with 1 Axes>"
            ],
            "image/png": "[encoded data removed]"
          },
          "metadata": {}
        }
      ]
    },
    {
      "cell_type": "code",
      "source": [
        "s = ['lr_sfm','lr_rfe']\n",
        "z = [a_lr_r2_sfm,a_lr_r2_rfe]\n",
        "X = np.arange(len(s))\n",
        "plt.figure(figsize=(6, 4))\n",
        "plt.bar(X+0, z, color =\"#546E77\", width = 0.25, edgecolor = 'black', label = 'R2')\n",
        "plt.xticks(X, s)\n",
        "plt.legend(bbox_to_anchor=(1, 1))\n",
        "plt.xlabel(\"Models\")\n",
        "plt.title(\"Results\")\n",
        "plt.show()"
      ],
      "metadata": {
        "colab": {
          "base_uri": "https://localhost:8080/",
          "height": 410
        },
        "id": "RoYXXyTvAuFy",
        "outputId": "9605b44a-4b77-400f-c6cf-c2fe9aec49d5"
      },
      "execution_count": 42,
      "outputs": [
        {
          "output_type": "display_data",
          "data": {
            "text/plain": [
              "<Figure size 600x400 with 1 Axes>"
            ],
            "image/png": "[encoded data removed]"
          },
          "metadata": {}
        }
      ]
    },
    {
      "cell_type": "code",
      "source": [
        "s = ['dt_sfm','rf_sfm',\"dt_rfe\",\"rf_rfe\"]\n",
        "z = [a_dt_r2_sfm,a_rf_r2_sfm,a_dt_r2_rfe,a_rf_r2_rfe]\n",
        "X = np.arange(len(s))\n",
        "plt.figure(figsize=(6, 4))\n",
        "plt.bar(X+0, z, color =\"#546E77\", width = 0.25, edgecolor = 'black', label = 'R2')\n",
        "plt.xticks(X, s)\n",
        "plt.legend(bbox_to_anchor=(1, 1))\n",
        "plt.xlabel(\"Models\")\n",
        "plt.title(\"Results\")\n",
        "plt.show()"
      ],
      "metadata": {
        "colab": {
          "base_uri": "https://localhost:8080/",
          "height": 410
        },
        "id": "3Ry3CcbdA63O",
        "outputId": "1622a2d3-c7d6-4484-f9f5-e84702539c8e"
      },
      "execution_count": 41,
      "outputs": [
        {
          "output_type": "display_data",
          "data": {
            "text/plain": [
              "<Figure size 600x400 with 1 Axes>"
            ],
            "image/png": "[encoded data removed]"
          },
          "metadata": {}
        }
      ]
    },
    {
      "cell_type": "code",
      "source": [
        "s = ['dt_sfm','rf_sfm',\"dt_rfe\",\"rf_rfe\"]\n",
        "z = [dt_mse_sfm,rf_mse_sfm,dt_mse_rfe,rf_mse_rfe]\n",
        "plt.boxplot(z)\n",
        "X = np.arange(len(s))\n",
        "plt.xticks(X+1, s)\n",
        "plt.xlabel(\"Models\")\n",
        "plt.title(\"MSE\")\n",
        "plt.show()"
      ],
      "metadata": {
        "colab": {
          "base_uri": "https://localhost:8080/",
          "height": 472
        },
        "id": "f-Ut-P7IBM6k",
        "outputId": "f7344fa8-ffd2-4574-c4e4-4266a3910c01"
      },
      "execution_count": 45,
      "outputs": [
        {
          "output_type": "display_data",
          "data": {
            "text/plain": [
              "<Figure size 640x480 with 1 Axes>"
            ],
            "image/png": "[encoded data removed]"
          },
          "metadata": {}
        }
      ]
    },
    {
      "cell_type": "code",
      "source": [
        "s = ['lr_sfm','lr_sfm']\n",
        "z = [lr_mse_sfm,lr_mse_rfe]\n",
        "plt.boxplot(z)\n",
        "X = np.arange(len(s))\n",
        "plt.xticks(X+1, s)\n",
        "plt.xlabel(\"models\")\n",
        "plt.title(\"Results of MSE\")\n",
        "plt.show()"
      ],
      "metadata": {
        "colab": {
          "base_uri": "https://localhost:8080/",
          "height": 472
        },
        "id": "iq-zWYPHBqx6",
        "outputId": "818b85c5-6355-4a64-b20d-3f095bc6618d"
      },
      "execution_count": 62,
      "outputs": [
        {
          "output_type": "display_data",
          "data": {
            "text/plain": [
              "<Figure size 640x480 with 1 Axes>"
            ],
            "image/png": "[encoded data removed]"
          },
          "metadata": {}
        }
      ]
    },
    {
      "cell_type": "code",
      "source": [
        "s = ['lr_sfm','lr_sfm']\n",
        "z = [lr_r2_sfm,lr_r2_rfe]\n",
        "plt.boxplot(z)\n",
        "X = np.arange(len(s))\n",
        "plt.xticks(X+1, s)\n",
        "plt.xlabel(\"models\")\n",
        "plt.title(\"Results of MSE\")\n",
        "plt.show()"
      ],
      "metadata": {
        "colab": {
          "base_uri": "https://localhost:8080/",
          "height": 472
        },
        "id": "0CzVo0SBCGKq",
        "outputId": "fa46dddb-365e-47e8-ba4e-441bd6ad2afe"
      },
      "execution_count": 61,
      "outputs": [
        {
          "output_type": "display_data",
          "data": {
            "text/plain": [
              "<Figure size 640x480 with 1 Axes>"
            ],
            "image/png": "[encoded data removed]"
          },
          "metadata": {}
        }
      ]
    },
    {
      "cell_type": "code",
      "source": [
        "s = ['dt_sfm','rf_sfm',\"dt_rfe\",\"rf_rfe\"]\n",
        "z = [dt_r2_sfm,rf_r2_sfm,dt_r2_rfe,rf_r2_rfe]\n",
        "plt.boxplot(z)\n",
        "X = np.arange(len(s))\n",
        "plt.xticks(X+1, s)\n",
        "plt.xlabel(\"Models\")\n",
        "plt.title(\"R2\")\n",
        "plt.show()"
      ],
      "metadata": {
        "colab": {
          "base_uri": "https://localhost:8080/",
          "height": 472
        },
        "id": "2sN8ClHRCN1o",
        "outputId": "8502e135-b365-42c5-8d4c-e7173ad3c436"
      },
      "execution_count": 60,
      "outputs": [
        {
          "output_type": "display_data",
          "data": {
            "text/plain": [
              "<Figure size 640x480 with 1 Axes>"
            ],
            "image/png": "[encoded data removed]"
          },
          "metadata": {}
        }
      ]
    }
  ]
}