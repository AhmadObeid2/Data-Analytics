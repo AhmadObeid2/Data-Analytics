{
  "cells": [
    {
      "cell_type": "markdown",
      "metadata": {
        "id": "S0KHr8IZPIay"
      },
      "source": [
        "###**Import Libraries**"
      ]
    },
    {
      "cell_type": "code",
      "execution_count": 1,
      "metadata": {},
      "outputs": [
        {
          "name": "stdout",
          "output_type": "stream",
          "text": [
            "Collecting numpy\n",
            "  Downloading numpy-1.25.2-cp311-cp311-win_amd64.whl (15.5 MB)\n",
            "                                              0.0/15.5 MB ? eta -:--:--\n",
            "                                              0.0/15.5 MB ? eta -:--:--\n",
            "                                              0.0/15.5 MB 1.9 MB/s eta 0:00:09\n",
            "                                              0.1/15.5 MB 1.6 MB/s eta 0:00:10\n",
            "                                              0.1/15.5 MB 1.0 MB/s eta 0:00:16\n",
            "                                              0.1/15.5 MB 1.0 MB/s eta 0:00:16\n",
            "                                              0.3/15.5 MB 1.2 MB/s eta 0:00:13\n",
            "                                              0.3/15.5 MB 1.1 MB/s eta 0:00:15\n",
            "                                              0.3/15.5 MB 1.0 MB/s eta 0:00:16\n",
            "     -                                        0.5/15.5 MB 1.6 MB/s eta 0:00:10\n",
            "     -                                        0.6/15.5 MB 1.5 MB/s eta 0:00:10\n",
            "     -                                        0.7/15.5 MB 1.4 MB/s eta 0:00:11\n",
            "     --                                       0.9/15.5 MB 1.9 MB/s eta 0:00:08\n",
            "     --                                       1.0/15.5 MB 1.8 MB/s eta 0:00:09\n",
            "     --                                       1.2/15.5 MB 1.9 MB/s eta 0:00:08\n",
            "     ---                                      1.4/15.5 MB 2.2 MB/s eta 0:00:07\n",
            "     ---                                      1.5/15.5 MB 2.2 MB/s eta 0:00:07\n",
            "     ----                                     1.8/15.5 MB 2.4 MB/s eta 0:00:06\n",
            "     ----                                     1.9/15.5 MB 2.4 MB/s eta 0:00:06\n",
            "     -----                                    2.1/15.5 MB 2.5 MB/s eta 0:00:06\n",
            "     -----                                    2.3/15.5 MB 2.7 MB/s eta 0:00:05\n",
            "     ------                                   2.6/15.5 MB 2.8 MB/s eta 0:00:05\n",
            "     -------                                  2.8/15.5 MB 2.9 MB/s eta 0:00:05\n",
            "     -------                                  3.0/15.5 MB 3.0 MB/s eta 0:00:05\n",
            "     --------                                 3.3/15.5 MB 3.1 MB/s eta 0:00:04\n",
            "     ---------                                3.5/15.5 MB 3.2 MB/s eta 0:00:04\n",
            "     ---------                                3.8/15.5 MB 3.3 MB/s eta 0:00:04\n",
            "     ----------                               4.1/15.5 MB 3.4 MB/s eta 0:00:04\n",
            "     -----------                              4.3/15.5 MB 3.5 MB/s eta 0:00:04\n",
            "     -----------                              4.6/15.5 MB 3.6 MB/s eta 0:00:04\n",
            "     ------------                             4.9/15.5 MB 3.7 MB/s eta 0:00:03\n",
            "     -------------                            5.3/15.5 MB 3.8 MB/s eta 0:00:03\n",
            "     --------------                           5.6/15.5 MB 3.9 MB/s eta 0:00:03\n",
            "     ---------------                          5.9/15.5 MB 4.0 MB/s eta 0:00:03\n",
            "     ----------------                         6.2/15.5 MB 4.1 MB/s eta 0:00:03\n",
            "     -----------------                        6.6/15.5 MB 4.2 MB/s eta 0:00:03\n",
            "     -----------------                        7.0/15.5 MB 4.3 MB/s eta 0:00:02\n",
            "     ------------------                       7.3/15.5 MB 4.4 MB/s eta 0:00:02\n",
            "     -------------------                      7.7/15.5 MB 4.5 MB/s eta 0:00:02\n",
            "     --------------------                     8.1/15.5 MB 4.6 MB/s eta 0:00:02\n",
            "     ---------------------                    8.2/15.5 MB 4.6 MB/s eta 0:00:02\n",
            "     ----------------------                   8.8/15.5 MB 4.8 MB/s eta 0:00:02\n",
            "     -----------------------                  9.1/15.5 MB 4.8 MB/s eta 0:00:02\n",
            "     ------------------------                 9.5/15.5 MB 4.9 MB/s eta 0:00:02\n",
            "     -------------------------                9.9/15.5 MB 5.0 MB/s eta 0:00:02\n",
            "     --------------------------               10.4/15.5 MB 5.3 MB/s eta 0:00:01\n",
            "     ---------------------------              10.7/15.5 MB 5.8 MB/s eta 0:00:01\n",
            "     ----------------------------             11.1/15.5 MB 6.4 MB/s eta 0:00:01\n",
            "     ------------------------------           11.7/15.5 MB 6.8 MB/s eta 0:00:01\n",
            "     -------------------------------          12.1/15.5 MB 7.0 MB/s eta 0:00:01\n",
            "     --------------------------------         12.6/15.5 MB 7.4 MB/s eta 0:00:01\n",
            "     ---------------------------------        13.1/15.5 MB 7.6 MB/s eta 0:00:01\n",
            "     ----------------------------------       13.6/15.5 MB 7.9 MB/s eta 0:00:01\n",
            "     ------------------------------------     14.1/15.5 MB 8.2 MB/s eta 0:00:01\n",
            "     -------------------------------------    14.6/15.5 MB 8.5 MB/s eta 0:00:01\n",
            "     ---------------------------------------  15.2/15.5 MB 8.8 MB/s eta 0:00:01\n",
            "     ---------------------------------------  15.5/15.5 MB 8.8 MB/s eta 0:00:01\n",
            "     ---------------------------------------  15.5/15.5 MB 8.8 MB/s eta 0:00:01\n",
            "     ---------------------------------------- 15.5/15.5 MB 8.4 MB/s eta 0:00:00\n",
            "Collecting pandas\n",
            "  Downloading pandas-2.1.0-cp311-cp311-win_amd64.whl (11.0 MB)\n",
            "                                              0.0/11.0 MB ? eta -:--:--\n",
            "     -                                        0.4/11.0 MB 8.5 MB/s eta 0:00:02\n",
            "     ---                                      0.9/11.0 MB 11.6 MB/s eta 0:00:01\n",
            "     -----                                    1.4/11.0 MB 9.7 MB/s eta 0:00:01\n",
            "     ------                                   1.9/11.0 MB 10.8 MB/s eta 0:00:01\n",
            "     --------                                 2.4/11.0 MB 10.8 MB/s eta 0:00:01\n",
            "     ----------                               2.9/11.0 MB 10.9 MB/s eta 0:00:01\n",
            "     ------------                             3.4/11.0 MB 10.8 MB/s eta 0:00:01\n",
            "     --------------                           4.0/11.0 MB 11.0 MB/s eta 0:00:01\n",
            "     ----------------                         4.5/11.0 MB 11.0 MB/s eta 0:00:01\n",
            "     ------------------                       5.0/11.0 MB 11.1 MB/s eta 0:00:01\n",
            "     --------------------                     5.6/11.0 MB 11.1 MB/s eta 0:00:01\n",
            "     ----------------------                   6.1/11.0 MB 11.1 MB/s eta 0:00:01\n",
            "     ------------------------                 6.6/11.0 MB 10.9 MB/s eta 0:00:01\n",
            "     -------------------------                7.2/11.0 MB 10.9 MB/s eta 0:00:01\n",
            "     ----------------------------             7.7/11.0 MB 11.2 MB/s eta 0:00:01\n",
            "     -----------------------------            8.2/11.0 MB 11.2 MB/s eta 0:00:01\n",
            "     -------------------------------          8.8/11.0 MB 11.2 MB/s eta 0:00:01\n",
            "     ---------------------------------        9.4/11.0 MB 11.3 MB/s eta 0:00:01\n",
            "     ------------------------------------     9.9/11.0 MB 11.4 MB/s eta 0:00:01\n",
            "     -------------------------------------   10.5/11.0 MB 11.5 MB/s eta 0:00:01\n",
            "     --------------------------------------  11.0/11.0 MB 11.5 MB/s eta 0:00:01\n",
            "     --------------------------------------  11.0/11.0 MB 11.3 MB/s eta 0:00:01\n",
            "     --------------------------------------- 11.0/11.0 MB 10.7 MB/s eta 0:00:00\n",
            "Collecting seaborn\n",
            "  Downloading seaborn-0.12.2-py3-none-any.whl (293 kB)\n",
            "                                              0.0/293.3 kB ? eta -:--:--\n",
            "     ------------------------------------- 293.3/293.3 kB 17.7 MB/s eta 0:00:00\n",
            "Collecting matplotlib\n",
            "  Downloading matplotlib-3.7.2-cp311-cp311-win_amd64.whl (7.5 MB)\n",
            "                                              0.0/7.5 MB ? eta -:--:--\n",
            "     --                                       0.4/7.5 MB 13.9 MB/s eta 0:00:01\n",
            "     -----                                    1.0/7.5 MB 12.3 MB/s eta 0:00:01\n",
            "     -------                                  1.5/7.5 MB 11.6 MB/s eta 0:00:01\n",
            "     ----------                               2.0/7.5 MB 11.8 MB/s eta 0:00:01\n",
            "     -------------                            2.5/7.5 MB 11.5 MB/s eta 0:00:01\n",
            "     ----------------                         3.1/7.5 MB 11.4 MB/s eta 0:00:01\n",
            "     -------------------                      3.6/7.5 MB 11.5 MB/s eta 0:00:01\n",
            "     ---------------------                    4.1/7.5 MB 11.4 MB/s eta 0:00:01\n",
            "     ------------------------                 4.7/7.5 MB 11.5 MB/s eta 0:00:01\n",
            "     ---------------------------              5.1/7.5 MB 11.3 MB/s eta 0:00:01\n",
            "     ------------------------------           5.7/7.5 MB 11.3 MB/s eta 0:00:01\n",
            "     ---------------------------------        6.2/7.5 MB 11.3 MB/s eta 0:00:01\n",
            "     -----------------------------------      6.7/7.5 MB 11.3 MB/s eta 0:00:01\n",
            "     --------------------------------------   7.2/7.5 MB 11.3 MB/s eta 0:00:01\n",
            "     ---------------------------------------  7.5/7.5 MB 11.4 MB/s eta 0:00:01\n",
            "     ---------------------------------------- 7.5/7.5 MB 10.4 MB/s eta 0:00:00\n",
            "Collecting scikit-learn\n",
            "  Downloading scikit_learn-1.3.0-cp311-cp311-win_amd64.whl (9.2 MB)\n",
            "                                              0.0/9.2 MB ? eta -:--:--\n",
            "     --                                       0.5/9.2 MB 14.5 MB/s eta 0:00:01\n",
            "     ----                                     1.0/9.2 MB 12.6 MB/s eta 0:00:01\n",
            "     ------                                   1.5/9.2 MB 12.0 MB/s eta 0:00:01\n",
            "     --------                                 2.0/9.2 MB 11.4 MB/s eta 0:00:01\n",
            "     ----------                               2.5/9.2 MB 11.2 MB/s eta 0:00:01\n",
            "     ------------                             2.9/9.2 MB 10.9 MB/s eta 0:00:01\n",
            "     --------------                           3.4/9.2 MB 11.0 MB/s eta 0:00:01\n",
            "     -----------------                        3.9/9.2 MB 10.9 MB/s eta 0:00:01\n",
            "     ------------------                       4.3/9.2 MB 10.6 MB/s eta 0:00:01\n",
            "     --------------------                     4.7/9.2 MB 10.3 MB/s eta 0:00:01\n",
            "     ----------------------                   5.2/9.2 MB 10.4 MB/s eta 0:00:01\n",
            "     ------------------------                 5.7/9.2 MB 10.4 MB/s eta 0:00:01\n",
            "     -------------------------                5.9/9.2 MB 10.0 MB/s eta 0:00:01\n",
            "     -------------------------                5.9/9.2 MB 10.0 MB/s eta 0:00:01\n",
            "     -------------------------                5.9/9.2 MB 10.0 MB/s eta 0:00:01\n",
            "     -------------------------                5.9/9.2 MB 10.0 MB/s eta 0:00:01\n",
            "     -------------------------                5.9/9.2 MB 10.0 MB/s eta 0:00:01\n",
            "     -------------------------                5.9/9.2 MB 10.0 MB/s eta 0:00:01\n",
            "     -------------------------                5.9/9.2 MB 10.0 MB/s eta 0:00:01\n",
            "     -------------------------                5.9/9.2 MB 10.0 MB/s eta 0:00:01\n",
            "     -------------------------                5.9/9.2 MB 10.0 MB/s eta 0:00:01\n",
            "     -------------------------                5.9/9.2 MB 10.0 MB/s eta 0:00:01\n",
            "     -------------------------                5.9/9.2 MB 10.0 MB/s eta 0:00:01\n",
            "     -------------------------                5.9/9.2 MB 10.0 MB/s eta 0:00:01\n",
            "     ---------------------------------------  9.2/9.2 MB 8.2 MB/s eta 0:00:01\n",
            "     ---------------------------------------- 9.2/9.2 MB 7.7 MB/s eta 0:00:00\n",
            "Requirement already satisfied: python-dateutil>=2.8.2 in c:\\users\\vivobook\\appdata\\roaming\\python\\python311\\site-packages (from pandas) (2.8.2)\n",
            "Collecting pytz>=2020.1 (from pandas)\n",
            "  Downloading pytz-2023.3-py2.py3-none-any.whl (502 kB)\n",
            "                                              0.0/502.3 kB ? eta -:--:--\n",
            "     -----------------                      225.3/502.3 kB 6.9 MB/s eta 0:00:01\n",
            "     -------------------------------------  501.8/502.3 kB 6.3 MB/s eta 0:00:01\n",
            "     -------------------------------------- 502.3/502.3 kB 5.2 MB/s eta 0:00:00\n",
            "Collecting tzdata>=2022.1 (from pandas)\n",
            "  Downloading tzdata-2023.3-py2.py3-none-any.whl (341 kB)\n",
            "                                              0.0/341.8 kB ? eta -:--:--\n",
            "     -------------------------------        286.7/341.8 kB 8.9 MB/s eta 0:00:01\n",
            "     -------------------------------------- 341.8/341.8 kB 7.1 MB/s eta 0:00:00\n",
            "Collecting contourpy>=1.0.1 (from matplotlib)\n",
            "  Downloading contourpy-1.1.0-cp311-cp311-win_amd64.whl (470 kB)\n",
            "                                              0.0/470.9 kB ? eta -:--:--\n",
            "     --------------------------            337.9/470.9 kB 10.2 MB/s eta 0:00:01\n",
            "     -------------------------------------- 470.9/470.9 kB 9.8 MB/s eta 0:00:00\n",
            "Collecting cycler>=0.10 (from matplotlib)\n",
            "  Downloading cycler-0.11.0-py3-none-any.whl (6.4 kB)\n",
            "Collecting fonttools>=4.22.0 (from matplotlib)\n",
            "  Downloading fonttools-4.42.1-cp311-cp311-win_amd64.whl (2.1 MB)\n",
            "                                              0.0/2.1 MB ? eta -:--:--\n",
            "     ---------                                0.5/2.1 MB 10.2 MB/s eta 0:00:01\n",
            "     -----------------                        0.9/2.1 MB 9.7 MB/s eta 0:00:01\n",
            "     ---------------------------              1.5/2.1 MB 10.3 MB/s eta 0:00:01\n",
            "     -----------------------------------      1.9/2.1 MB 10.1 MB/s eta 0:00:01\n",
            "     ---------------------------------------- 2.1/2.1 MB 9.6 MB/s eta 0:00:00\n",
            "Collecting kiwisolver>=1.0.1 (from matplotlib)\n",
            "  Downloading kiwisolver-1.4.5-cp311-cp311-win_amd64.whl (56 kB)\n",
            "                                              0.0/56.1 kB ? eta -:--:--\n",
            "     ---------------------------------------- 56.1/56.1 kB 3.1 MB/s eta 0:00:00\n",
            "Requirement already satisfied: packaging>=20.0 in c:\\users\\vivobook\\appdata\\roaming\\python\\python311\\site-packages (from matplotlib) (23.1)\n",
            "Collecting pillow>=6.2.0 (from matplotlib)\n",
            "  Downloading Pillow-10.0.0-cp311-cp311-win_amd64.whl (2.5 MB)\n",
            "                                              0.0/2.5 MB ? eta -:--:--\n",
            "     -------                                  0.5/2.5 MB 15.5 MB/s eta 0:00:01\n",
            "     ---------------                          1.0/2.5 MB 12.5 MB/s eta 0:00:01\n",
            "     -----------------------                  1.5/2.5 MB 11.9 MB/s eta 0:00:01\n",
            "     --------------------------------         2.1/2.5 MB 12.0 MB/s eta 0:00:01\n",
            "     ---------------------------------------  2.5/2.5 MB 11.4 MB/s eta 0:00:01\n",
            "     ---------------------------------------- 2.5/2.5 MB 10.7 MB/s eta 0:00:00\n",
            "Collecting pyparsing<3.1,>=2.3.1 (from matplotlib)\n",
            "  Downloading pyparsing-3.0.9-py3-none-any.whl (98 kB)\n",
            "                                              0.0/98.3 kB ? eta -:--:--\n",
            "     ---------------------------------------- 98.3/98.3 kB 5.9 MB/s eta 0:00:00\n",
            "Collecting scipy>=1.5.0 (from scikit-learn)\n",
            "  Downloading scipy-1.11.2-cp311-cp311-win_amd64.whl (44.0 MB)\n",
            "                                              0.0/44.0 MB ? eta -:--:--\n",
            "                                              0.5/44.0 MB 16.5 MB/s eta 0:00:03\n",
            "     -                                        1.1/44.0 MB 14.0 MB/s eta 0:00:04\n",
            "     -                                        1.5/44.0 MB 11.7 MB/s eta 0:00:04\n",
            "     -                                        2.1/44.0 MB 12.0 MB/s eta 0:00:04\n",
            "     --                                       2.5/44.0 MB 11.5 MB/s eta 0:00:04\n",
            "     --                                       3.1/44.0 MB 11.6 MB/s eta 0:00:04\n",
            "     ---                                      3.7/44.0 MB 11.6 MB/s eta 0:00:04\n",
            "     ---                                      4.2/44.0 MB 11.6 MB/s eta 0:00:04\n",
            "     ----                                     4.7/44.0 MB 11.5 MB/s eta 0:00:04\n",
            "     ----                                     5.2/44.0 MB 11.5 MB/s eta 0:00:04\n",
            "     -----                                    5.8/44.0 MB 11.5 MB/s eta 0:00:04\n",
            "     -----                                    6.3/44.0 MB 11.5 MB/s eta 0:00:04\n",
            "     ------                                   6.8/44.0 MB 11.5 MB/s eta 0:00:04\n",
            "     ------                                   7.4/44.0 MB 11.5 MB/s eta 0:00:04\n",
            "     -------                                  7.9/44.0 MB 11.5 MB/s eta 0:00:04\n",
            "     -------                                  8.4/44.0 MB 11.7 MB/s eta 0:00:04\n",
            "     --------                                 8.9/44.0 MB 11.4 MB/s eta 0:00:04\n",
            "     --------                                 9.4/44.0 MB 11.4 MB/s eta 0:00:04\n",
            "     --------                                10.0/44.0 MB 11.4 MB/s eta 0:00:03\n",
            "     ---------                               10.5/44.0 MB 11.3 MB/s eta 0:00:03\n",
            "     ---------                               11.1/44.0 MB 11.3 MB/s eta 0:00:03\n",
            "     ----------                              11.7/44.0 MB 11.5 MB/s eta 0:00:03\n",
            "     ----------                              12.2/44.0 MB 11.5 MB/s eta 0:00:03\n",
            "     -----------                             12.8/44.0 MB 11.5 MB/s eta 0:00:03\n",
            "     -----------                             13.2/44.0 MB 11.5 MB/s eta 0:00:03\n",
            "     ------------                            13.7/44.0 MB 11.5 MB/s eta 0:00:03\n",
            "     ------------                            14.3/44.0 MB 11.3 MB/s eta 0:00:03\n",
            "     -------------                           14.8/44.0 MB 11.3 MB/s eta 0:00:03\n",
            "     -------------                           15.3/44.0 MB 11.5 MB/s eta 0:00:03\n",
            "     --------------                          15.9/44.0 MB 11.7 MB/s eta 0:00:03\n",
            "     --------------                          16.4/44.0 MB 11.5 MB/s eta 0:00:03\n",
            "     --------------                          16.9/44.0 MB 11.5 MB/s eta 0:00:03\n",
            "     ---------------                         17.2/44.0 MB 11.3 MB/s eta 0:00:03\n",
            "     ---------------                         17.7/44.0 MB 11.3 MB/s eta 0:00:03\n",
            "     ----------------                        18.3/44.0 MB 11.1 MB/s eta 0:00:03\n",
            "     ----------------                        18.8/44.0 MB 11.3 MB/s eta 0:00:03\n",
            "     -----------------                       19.3/44.0 MB 11.3 MB/s eta 0:00:03\n",
            "     -----------------                       19.8/44.0 MB 11.3 MB/s eta 0:00:03\n",
            "     ------------------                      20.3/44.0 MB 11.1 MB/s eta 0:00:03\n",
            "     ------------------                      20.7/44.0 MB 10.9 MB/s eta 0:00:03\n",
            "     ------------------                      21.2/44.0 MB 10.9 MB/s eta 0:00:03\n",
            "     ------------------                      21.4/44.0 MB 10.6 MB/s eta 0:00:03\n",
            "     -------------------                     21.8/44.0 MB 10.4 MB/s eta 0:00:03\n",
            "     -------------------                     22.4/44.0 MB 10.4 MB/s eta 0:00:03\n",
            "     --------------------                    22.7/44.0 MB 10.4 MB/s eta 0:00:03\n",
            "     --------------------                    23.0/44.0 MB 10.1 MB/s eta 0:00:03\n",
            "     --------------------                    23.6/44.0 MB 10.2 MB/s eta 0:00:02\n",
            "     ---------------------                   24.1/44.0 MB 10.1 MB/s eta 0:00:02\n",
            "     ---------------------                   24.7/44.0 MB 10.2 MB/s eta 0:00:02\n",
            "     ----------------------                  25.2/44.0 MB 10.1 MB/s eta 0:00:02\n",
            "     ----------------------                  25.8/44.0 MB 10.2 MB/s eta 0:00:02\n",
            "     -----------------------                 26.3/44.0 MB 10.1 MB/s eta 0:00:02\n",
            "     -----------------------                 26.8/44.0 MB 10.1 MB/s eta 0:00:02\n",
            "     ------------------------                27.4/44.0 MB 10.4 MB/s eta 0:00:02\n",
            "     ------------------------                27.8/44.0 MB 10.4 MB/s eta 0:00:02\n",
            "     -------------------------               28.4/44.0 MB 10.4 MB/s eta 0:00:02\n",
            "     -------------------------               29.0/44.0 MB 10.4 MB/s eta 0:00:02\n",
            "     --------------------------              29.5/44.0 MB 10.4 MB/s eta 0:00:02\n",
            "     --------------------------              30.1/44.0 MB 10.6 MB/s eta 0:00:02\n",
            "     ---------------------------             30.6/44.0 MB 10.4 MB/s eta 0:00:02\n",
            "     ---------------------------             31.0/44.0 MB 10.7 MB/s eta 0:00:02\n",
            "     ----------------------------            31.6/44.0 MB 11.1 MB/s eta 0:00:02\n",
            "     ----------------------------            32.1/44.0 MB 10.9 MB/s eta 0:00:02\n",
            "     ----------------------------            32.6/44.0 MB 11.1 MB/s eta 0:00:02\n",
            "     -----------------------------           33.1/44.0 MB 11.3 MB/s eta 0:00:01\n",
            "     -----------------------------           33.7/44.0 MB 11.3 MB/s eta 0:00:01\n",
            "     ------------------------------          34.2/44.0 MB 11.3 MB/s eta 0:00:01\n",
            "     ------------------------------          34.7/44.0 MB 11.3 MB/s eta 0:00:01\n",
            "     -------------------------------         35.3/44.0 MB 11.3 MB/s eta 0:00:01\n",
            "     -------------------------------         35.9/44.0 MB 11.3 MB/s eta 0:00:01\n",
            "     --------------------------------        36.4/44.0 MB 11.3 MB/s eta 0:00:01\n",
            "     --------------------------------        36.9/44.0 MB 11.3 MB/s eta 0:00:01\n",
            "     ---------------------------------       37.4/44.0 MB 11.3 MB/s eta 0:00:01\n",
            "     ---------------------------------       37.9/44.0 MB 11.3 MB/s eta 0:00:01\n",
            "     ----------------------------------      38.4/44.0 MB 11.3 MB/s eta 0:00:01\n",
            "     ----------------------------------      38.9/44.0 MB 11.3 MB/s eta 0:00:01\n",
            "     ----------------------------------      39.4/44.0 MB 11.3 MB/s eta 0:00:01\n",
            "     -----------------------------------     39.9/44.0 MB 11.3 MB/s eta 0:00:01\n",
            "     -----------------------------------     40.5/44.0 MB 11.3 MB/s eta 0:00:01\n",
            "     ------------------------------------    40.9/44.0 MB 11.1 MB/s eta 0:00:01\n",
            "     ------------------------------------    41.3/44.0 MB 11.1 MB/s eta 0:00:01\n",
            "     -------------------------------------   41.8/44.0 MB 10.9 MB/s eta 0:00:01\n",
            "     -------------------------------------   42.4/44.0 MB 11.1 MB/s eta 0:00:01\n",
            "     --------------------------------------  42.9/44.0 MB 11.1 MB/s eta 0:00:01\n",
            "     --------------------------------------  43.4/44.0 MB 11.1 MB/s eta 0:00:01\n",
            "     --------------------------------------  43.9/44.0 MB 10.9 MB/s eta 0:00:01\n",
            "     --------------------------------------  44.0/44.0 MB 11.1 MB/s eta 0:00:01\n",
            "     --------------------------------------  44.0/44.0 MB 11.1 MB/s eta 0:00:01\n",
            "     --------------------------------------  44.0/44.0 MB 11.1 MB/s eta 0:00:01\n",
            "     --------------------------------------  44.0/44.0 MB 11.1 MB/s eta 0:00:01\n",
            "     --------------------------------------  44.0/44.0 MB 11.1 MB/s eta 0:00:01\n",
            "     ---------------------------------------- 44.0/44.0 MB 8.6 MB/s eta 0:00:00\n",
            "Collecting joblib>=1.1.1 (from scikit-learn)\n",
            "  Downloading joblib-1.3.2-py3-none-any.whl (302 kB)\n",
            "                                              0.0/302.2 kB ? eta -:--:--\n",
            "     -------------------------------------- 302.2/302.2 kB 9.4 MB/s eta 0:00:00\n",
            "Collecting threadpoolctl>=2.0.0 (from scikit-learn)\n",
            "  Downloading threadpoolctl-3.2.0-py3-none-any.whl (15 kB)\n",
            "Requirement already satisfied: six>=1.5 in c:\\users\\vivobook\\appdata\\roaming\\python\\python311\\site-packages (from python-dateutil>=2.8.2->pandas) (1.16.0)\n",
            "Installing collected packages: pytz, tzdata, threadpoolctl, pyparsing, pillow, numpy, kiwisolver, joblib, fonttools, cycler, scipy, pandas, contourpy, scikit-learn, matplotlib, seaborn\n",
            "Successfully installed contourpy-1.1.0 cycler-0.11.0 fonttools-4.42.1 joblib-1.3.2 kiwisolver-1.4.5 matplotlib-3.7.2 numpy-1.25.2 pandas-2.1.0 pillow-10.0.0 pyparsing-3.0.9 pytz-2023.3 scikit-learn-1.3.0 scipy-1.11.2 seaborn-0.12.2 threadpoolctl-3.2.0 tzdata-2023.3\n",
            "Note: you may need to restart the kernel to use updated packages.\n"
          ]
        },
        {
          "name": "stderr",
          "output_type": "stream",
          "text": [
            "\n",
            "[notice] A new release of pip is available: 23.1.2 -> 23.2.1\n",
            "[notice] To update, run: python.exe -m pip install --upgrade pip\n"
          ]
        }
      ],
      "source": [
        "pip install numpy pandas seaborn matplotlib scikit-learn"
      ]
    },
    {
      "cell_type": "code",
      "execution_count": 2,
      "metadata": {
        "id": "MvLvTRyIOGu_"
      },
      "outputs": [],
      "source": [
        "import random\n",
        "import numpy as np\n",
        "import pandas as pd\n",
        "import matplotlib.pyplot as plt"
      ]
    },
    {
      "cell_type": "markdown",
      "metadata": {
        "id": "oTshDbPSPTpm"
      },
      "source": [
        "###**Fitness Function**"
      ]
    },
    {
      "cell_type": "code",
      "execution_count": 11,
      "metadata": {
        "id": "Sw0R8E2bOOPc"
      },
      "outputs": [],
      "source": [
        "# Common fitness function for GA and PSO\n",
        "\n",
        "\n",
        "# Read the CSV file into a DataFrame\n",
        "df = pd.read_csv(r'C:\\Users\\VIVOBOOK\\Downloads\\Mid-.csv')\n",
        "\n",
        "\n",
        "# Sample data (Replace these with your actual data)\n",
        "t = df['TTL']\n",
        "h = df['Hop_Count']\n",
        "r = df['rate_of_energy_consumption']\n",
        "\n",
        "# Fitness function\n",
        "def fitness_function(ind):\n",
        "    w1, w2, w3 = ind\n",
        "\n",
        "    if(w1 < 0.0000001):\n",
        "      return 9999999\n",
        "    if(w2 < 0.0000001):\n",
        "      return 9999999\n",
        "    if(w3 < 0.0000001):\n",
        "      return 9999999\n",
        "\n",
        "    if (w1 + w2 + w3) > 1.0:\n",
        "        return 9999999\n",
        "\n",
        "    df['risk_score']= w1 * r + w2 * t + w3 * h\n",
        "\n",
        "    if any(df['risk_score'] > 100):\n",
        "        return 999999999\n",
        "    if(sum(df['risk_score']) < 50):\n",
        "      return 9999999\n",
        "    return df['risk_score'].min()\n"
      ]
    },
    {
      "cell_type": "markdown",
      "metadata": {
        "id": "nRMLdPf2OZXW"
      },
      "source": [
        "###**Genetic Algorithm**"
      ]
    },
    {
      "cell_type": "code",
      "execution_count": 12,
      "metadata": {
        "id": "I7KGjp08OWP6"
      },
      "outputs": [],
      "source": [
        "#Creates a random individual\n",
        "def individual(ind_size, ind_limits):\n",
        "    ind = []\n",
        "    for i in range(ind_size):\n",
        "        ind.append(random.uniform(ind_limits[i][0], ind_limits[i][1]))\n",
        "    return ind"
      ]
    },
    {
      "cell_type": "code",
      "execution_count": 13,
      "metadata": {
        "id": "phCQix4KOlPp"
      },
      "outputs": [],
      "source": [
        "#Performs crossover between two parents\n",
        "def crossover(parent1, parent2):\n",
        "    if len(parent1) == 1:\n",
        "        return parent1  # Or you could do some other type of mixing, but with 1 element it's a moot point\n",
        "    point = random.randint(1, len(parent1) - 1)\n",
        "    child = parent1[:point] + parent2[point:]\n",
        "    return child"
      ]
    },
    {
      "cell_type": "code",
      "execution_count": 14,
      "metadata": {
        "id": "_a-YcGdrOnF5"
      },
      "outputs": [],
      "source": [
        "#Mutates the child\n",
        "def mutate(child, ind_limits):\n",
        "    index = random.randint(0, len(child) - 1)\n",
        "    child[index] = random.uniform(ind_limits[index][0], ind_limits[index][1])\n",
        "    return child"
      ]
    },
    {
      "cell_type": "code",
      "execution_count": 15,
      "metadata": {
        "id": "Azt5YnZbOq1m"
      },
      "outputs": [],
      "source": [
        "#Select two parents based on fitness\n",
        "def select_parents(population, fit_func):\n",
        "    k = 2\n",
        "    parent1 = population[0]\n",
        "    parent2 = max(random.choices(population, k=k), key=fit_func)\n",
        "    return parent1, parent2"
      ]
    },
    {
      "cell_type": "code",
      "execution_count": 17,
      "metadata": {
        "id": "zO6e5LdwOtvd"
      },
      "outputs": [],
      "source": [
        "\n",
        "\n",
        "\n",
        "def genetic_algorithm(ind_size, ind_limits, fit_func, pop_size, gen_max):\n",
        "    population = []\n",
        "    best_fitnesses = []  # This list will store the best fitness in each generation\n",
        "    for i in range(pop_size):\n",
        "        population.append(individual(ind_size, ind_limits))\n",
        "    for gen in range(gen_max):\n",
        "        population.sort(key=fit_func)\n",
        "        best_fitness = fit_func(population[0])  # Take the best individual's fitness\n",
        "        best_fitnesses.append(best_fitness)  # Add the best fitness to the list\n",
        "        parent1, parent2 = select_parents(population, fit_func)\n",
        "\n",
        "        child = crossover(parent1, parent2)\n",
        "        child = mutate(child, ind_limits)\n",
        "\n",
        "        # Replace the least fit individual\n",
        "        population[-1] = child\n",
        "\n",
        "    # Printing the best individual results for the final results\n",
        "    best_individual = population[0]\n",
        "\n",
        "\n",
        "\n",
        "    return best_individual, best_fitnesses"
      ]
    },
    {
      "cell_type": "markdown",
      "metadata": {
        "id": "7RSkj-EKOwLf"
      },
      "source": [
        "###**Particle Swarm Optimization**"
      ]
    },
    {
      "cell_type": "code",
      "execution_count": 18,
      "metadata": {
        "id": "yH1cH0hLO1jy"
      },
      "outputs": [],
      "source": [
        "# Initialize a random particle\n",
        "def particle(ind_size, ind_limits):\n",
        "    ind = []\n",
        "    for i in range(ind_size):\n",
        "        ind.append(random.uniform(ind_limits[i][0], ind_limits[i][1]))\n",
        "    return ind"
      ]
    },
    {
      "cell_type": "code",
      "execution_count": 19,
      "metadata": {
        "id": "wCKY3kIfO5wd"
      },
      "outputs": [],
      "source": [
        "# Update velocity\n",
        "def update_velocity(velocity, pBest_position, gBest_position, particle_position, w, c1, c2):\n",
        "    new_velocity = []\n",
        "    for i in range(len(velocity)):\n",
        "        r1, r2 = random.random(), random.random()\n",
        "        v = w * velocity[i] + c1 * r1 * (pBest_position[i] - particle_position[i]) + c2 * r2 * (gBest_position[i] - particle_position[i])\n",
        "        new_velocity.append(v)\n",
        "    return new_velocity"
      ]
    },
    {
      "cell_type": "code",
      "execution_count": 20,
      "metadata": {
        "id": "PGO4VzK3O6X6"
      },
      "outputs": [],
      "source": [
        "# Update position\n",
        "def update_position(particle_position, velocity):\n",
        "    new_position = []\n",
        "    for i in range(len(particle_position)):\n",
        "        pos = particle_position[i] + velocity[i]\n",
        "        # Ensure positions are within limits\n",
        "        pos = max(0, min(1, pos))\n",
        "        new_position.append(pos)\n",
        "    return new_position"
      ]
    },
    {
      "cell_type": "code",
      "execution_count": 21,
      "metadata": {
        "id": "_KyCHZyvO-DJ"
      },
      "outputs": [],
      "source": [
        "# PSO algorithm\n",
        "def particle_swarm_optimization(ind_size, ind_limits, fit_func, num_particles, num_iterations):\n",
        "    w, c1, c2 = 0.1, 0.5, 0.5\n",
        "\n",
        "    particles = [particle(ind_size, ind_limits) for _ in range(num_particles)]\n",
        "    velocities = [[random.uniform(-1, 1) for _ in range(ind_size)] for _ in range(num_particles)]\n",
        "\n",
        "    pBests = particles[:]\n",
        "    gBest = min(pBests, key=fit_func)\n",
        "    best_fitnesses = []\n",
        "\n",
        "    for _ in range(num_iterations):\n",
        "        for i in range(num_particles):\n",
        "            # Update personal best\n",
        "            if fit_func(particles[i]) < fit_func(pBests[i]):\n",
        "                pBests[i] = particles[i]\n",
        "\n",
        "            # Update global best\n",
        "            if fit_func(particles[i]) < fit_func(gBest):\n",
        "                gBest = particles[i]\n",
        "\n",
        "            velocities[i] = update_velocity(velocities[i], pBests[i], gBest, particles[i], w, c1, c2)\n",
        "            particles[i] = update_position(particles[i], velocities[i])\n",
        "\n",
        "        best_fitness = fit_func(gBest)\n",
        "        best_fitnesses.append(best_fitness)\n",
        "\n",
        "    return gBest, best_fitnesses"
      ]
    },
    {
      "cell_type": "markdown",
      "metadata": {
        "id": "ELTRi2dRQ8xX"
      },
      "source": [
        "###**Running Algorithms and Plotting**"
      ]
    },
    {
      "cell_type": "code",
      "execution_count": 22,
      "metadata": {
        "id": "ZebsHBIUQ_zo"
      },
      "outputs": [],
      "source": [
        "def run_algorithms_and_plot(NUM_RUNS, IND_LIMITS, IND_SIZE, pop_size, gen_max, num_particles, num_iterations):\n",
        "    # Data collection for line chart\n",
        "    line_data_GA = []\n",
        "    line_data_PSO = []\n",
        "    best_fitnesses_all_iterations_GA = []\n",
        "    best_fitnesses_all_iterations_PSO = []\n",
        "\n",
        "    best_solution_GA = None\n",
        "    best_fitness_GA = float('inf')\n",
        "    best_run_GA = None\n",
        "    best_gen_GA = None\n",
        "\n",
        "    best_solution_PSO = None\n",
        "    best_fitness_PSO = float('inf')\n",
        "    best_run_PSO = None\n",
        "    best_iter_PSO = None\n",
        "\n",
        "    print(\"Starting GA runs...\")\n",
        "    # Run GA NUM_RUNS times\n",
        "    for i in range(NUM_RUNS):\n",
        "        print(\"\\rRunning GA iteration\", i+1,NUM_RUNS, end='')\n",
        "        best_solution, fitness_over_time = genetic_algorithm(IND_SIZE, IND_LIMITS, fitness_function, pop_size, gen_max)\n",
        "        line_data_GA.append(fitness_over_time)\n",
        "        best_fitnesses_all_iterations_GA.append(fitness_function(best_solution))\n",
        "        if fitness_function(best_solution) < best_fitness_GA:\n",
        "          best_fitness_GA = fitness_function(best_solution)\n",
        "          best_solution_GA = best_solution\n",
        "          best_run_GA = i\n",
        "          best_gen_GA = np.argmin(fitness_over_time)\n",
        "    print(\"\\nGA runs completed.\")\n",
        "    # Average the fitness over all runs for GA\n",
        "    avg_line_data_GA = np.mean(line_data_GA, axis=0)\n",
        "    print(\"\\n\\nStarting PSO runs...\")\n",
        "    # Run PSO NUM_RUNS times\n",
        "    for i in range(NUM_RUNS):\n",
        "        print(\"\\rRunning PSO iteration\", i+1,NUM_RUNS, end='')\n",
        "        best_particle, fitness_over_time = particle_swarm_optimization(IND_SIZE, IND_LIMITS, fitness_function, num_particles, num_iterations)\n",
        "        best_fitnesses_all_iterations_PSO.append(fitness_function(best_particle))\n",
        "        line_data_PSO.append(fitness_over_time)\n",
        "        if fitness_function(best_particle) < best_fitness_PSO:\n",
        "           best_fitness_PSO = fitness_function(best_particle)\n",
        "           best_solution_PSO = best_particle\n",
        "           best_run_PSO = i\n",
        "           best_iter_PSO = np.argmin(fitness_over_time)\n",
        "\n",
        "    print(\"\\nPSO runs completed.\\n\\n\")\n",
        "    # Average the fitness over all runs for PSO\n",
        "    avg_line_data_PSO = np.mean(line_data_PSO, axis=0)\n",
        "\n",
        "# Plotting\n",
        "    fig1, ax1 = plt.subplots(figsize=(15, 7))\n",
        "# Line chart for GA and PSO\n",
        "    plt.plot(avg_line_data_GA, label=\"GA\")\n",
        "    plt.plot(avg_line_data_PSO, label=\"PSO\")\n",
        "    plt.title('Generation/Iteration vs. Average Fitness')\n",
        "    plt.xlabel('Generation/Iteration')\n",
        "    plt.ylabel('Average Fitness Value')\n",
        "    plt.legend()\n",
        "    plt.show()\n",
        "\n",
        "    fig2, ax2 = plt.subplots(figsize=(15, 7)) # you can adjust this size\n",
        "    box = plt.boxplot([best_fitnesses_all_iterations_GA, best_fitnesses_all_iterations_PSO],\n",
        "                  labels=['GA', 'PSO'], patch_artist=True, widths=0.3)\n",
        "    colors = ['cyan', 'pink']\n",
        "    for patch, color in zip(box['boxes'], colors):\n",
        "      patch.set_facecolor(color)\n",
        "    #plt.xlim(0.3, 2.7)\n",
        "    plt.gca().set_position([0.1, 0.1, 0.8, 0.8])\n",
        "    plt.title('Boxplot of Best Fitnesses for Each Iteration')\n",
        "    plt.ylabel('Fitness Value')\n",
        "    plt.subplots_adjust(wspace=0.7)  # Adjust the spacing between subplots\n",
        "    plt.tight_layout()\n",
        "    plt.show()\n",
        "\n",
        "\n",
        "    print(\"GA: Best solution is\",best_solution_GA, \"with fitness \",best_fitness_GA,\"Found at run\", best_run_GA + 1, \"and generation \",best_gen_GA + 1)\n",
        "    print(\"PSO: Best solution is\", best_solution_PSO, \"with fitness\", best_fitness_PSO, \"Found at run\",best_run_PSO + 1, \"and iteration\",best_iter_PSO + 1)\n"
      ]
    },
    {
      "cell_type": "markdown",
      "metadata": {
        "id": "YqoA3x0KPd2n"
      },
      "source": [
        "###**Setting the algorithm parameters**"
      ]
    },
    {
      "cell_type": "code",
      "execution_count": 24,
      "metadata": {
        "colab": {
          "base_uri": "https://localhost:8080/",
          "height": 1000
        },
        "id": "-ieXVucTPtUg",
        "outputId": "5f43702f-3d77-4f8c-ec47-e02f24e352b8"
      },
      "outputs": [
        {
          "name": "stdout",
          "output_type": "stream",
          "text": [
            "Starting GA runs...\n",
            "Running GA iteration 10 10\n",
            "GA runs completed.\n",
            "\n",
            "\n",
            "Starting PSO runs...\n",
            "Running PSO iteration 10 10\n",
            "PSO runs completed.\n",
            "\n",
            "\n"
          ]
        },
        {
          "data": {
            "image/png": "[encoded data removed]",
            "text/plain": [
              "<Figure size 1500x700 with 1 Axes>"
            ]
          },
          "metadata": {},
          "output_type": "display_data"
        },
        {
          "data": {
            "image/png": "[encoded data removed]",
            "text/plain": [
              "<Figure size 1500x700 with 1 Axes>"
            ]
          },
          "metadata": {},
          "output_type": "display_data"
        },
        {
          "name": "stdout",
          "output_type": "stream",
          "text": [
            "GA: Best solution is [0.3731063275150682, 0.4203753430502135, 0.002859387954866177] with fitness  0.014296939774330886 Found at run 4 and generation  69\n",
            "PSO: Best solution is [0.3668793528878043, 0.2063029327584945, 2.8694320188071782e-05] with fitness 0.0001434716009403589 Found at run 9 and iteration 24\n"
          ]
        }
      ],
      "source": [
        "# Setting the algorithm parameters\n",
        "NUM_RUNS = 10\n",
        "\n",
        "IND_LIMITS = [(0, 1), (0, 1),(0, 1)]\n",
        "IND_SIZE = 3\n",
        "\n",
        "pop_size = 100\n",
        "num_particles = 100\n",
        "\n",
        "gen_max = 200\n",
        "num_iterations = 200\n",
        "\n",
        "\n",
        "\n",
        "\n",
        "# Running the algorithms and plotting\n",
        "run_algorithms_and_plot(NUM_RUNS, IND_LIMITS, IND_SIZE, pop_size, gen_max, num_particles, num_iterations)"
      ]
    },
    {
      "cell_type": "code",
      "execution_count": 25,
      "metadata": {
        "id": "h0hDdsvQkUCx"
      },
      "outputs": [
        {
          "name": "stdout",
          "output_type": "stream",
          "text": [
            "15.78149731181073\n"
          ]
        }
      ],
      "source": [
        "ndf = df[df['risk_score']>=0.0001434716009403589]\n",
        "ndt = len(ndf[ndf['behaviour']=='Under attack'].index)/len(ndf)*100\n",
        "print(ndt)"
      ]
    },
    {
      "cell_type": "code",
      "execution_count": 33,
      "metadata": {},
      "outputs": [
        {
          "name": "stdout",
          "output_type": "stream",
          "text": [
            "16.07504953573685\n"
          ]
        }
      ],
      "source": [
        "ndf = df[df['risk_score']>=1]\n",
        "ndt = len(ndf[ndf['behaviour']=='Under attack'].index)/len(ndf)*100\n",
        "print(ndt)"
      ]
    },
    {
      "cell_type": "code",
      "execution_count": 34,
      "metadata": {},
      "outputs": [
        {
          "name": "stdout",
          "output_type": "stream",
          "text": [
            "16.271575508762638\n"
          ]
        }
      ],
      "source": [
        "ndf = df[df['risk_score']>=5]\n",
        "ndt = len(ndf[ndf['behaviour']=='Under attack'].index)/len(ndf)*100\n",
        "print(ndt)"
      ]
    },
    {
      "cell_type": "code",
      "execution_count": 35,
      "metadata": {},
      "outputs": [
        {
          "name": "stdout",
          "output_type": "stream",
          "text": [
            "17.5\n"
          ]
        }
      ],
      "source": [
        "ndf = df[df['risk_score']>=10]\n",
        "ndt = len(ndf[ndf['behaviour']=='Under attack'].index)/len(ndf)*100\n",
        "print(ndt)"
      ]
    },
    {
      "cell_type": "code",
      "execution_count": 36,
      "metadata": {},
      "outputs": [
        {
          "name": "stdout",
          "output_type": "stream",
          "text": [
            "18.181818181818183\n"
          ]
        }
      ],
      "source": [
        "ndf = df[df['risk_score']>=20]\n",
        "ndt = len(ndf[ndf['behaviour']=='Under attack'].index)/len(ndf)*100\n",
        "print(ndt)"
      ]
    },
    {
      "cell_type": "code",
      "execution_count": 72,
      "metadata": {},
      "outputs": [
        {
          "name": "stdout",
          "output_type": "stream",
          "text": [
            "46.875\n"
          ]
        }
      ],
      "source": [
        "ndf = df[df['risk_score']>=15.555]\n",
        "ndt = len(ndf[ndf['behaviour']=='Under attack'].index)/len(ndf)*100\n",
        "print(ndt)"
      ]
    },
    {
      "cell_type": "code",
      "execution_count": null,
      "metadata": {},
      "outputs": [],
      "source": []
    }
  ],
  "metadata": {
    "colab": {
      "provenance": []
    },
    "kernelspec": {
      "display_name": "Python 3 (ipykernel)",
      "language": "python",
      "name": "python3"
    },
    "language_info": {
      "codemirror_mode": {
        "name": "ipython",
        "version": 3
      },
      "file_extension": ".py",
      "mimetype": "text/x-python",
      "name": "python",
      "nbconvert_exporter": "python",
      "pygments_lexer": "ipython3",
      "version": "3.11.4"
    }
  },
  "nbformat": 4,
  "nbformat_minor": 0
}
